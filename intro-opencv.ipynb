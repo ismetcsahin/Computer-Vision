{
 "cells": [
  {
   "cell_type": "markdown",
   "id": "spare-hartford",
   "metadata": {},
   "source": [
    "# OpenCV"
   ]
  },
  {
   "cell_type": "code",
   "execution_count": null,
   "id": "twelve-canvas",
   "metadata": {},
   "outputs": [],
   "source": [
    "# Kütüphaneyi çağırma\n",
    "import cv2 "
   ]
  },
  {
   "cell_type": "code",
   "execution_count": null,
   "id": "exceptional-timing",
   "metadata": {},
   "outputs": [],
   "source": [
    "# resim okuma\n",
    "# imread aslında image read olarak geçiyor \n",
    "# Sizden aynı klasördeki bir resmin ismini yazmalısınız\n",
    "# Resim okunduğunda bir matris olarak okunur \n",
    "# RGB, fotoğraftaki Red-Green-Blue renklerini temsil etmektedir.\n",
    "# Görüntü işleme de BGR(Blue-Green-Red) geçerlidir.\n",
    "# a.shape yaptığınız zaman 478 tane 850*3'lük bir matris olduğunu görebilirsiniz\n",
    "a = cv2.imread(\"kanarya.jpg\")\n"
   ]
  },
  {
   "cell_type": "code",
   "execution_count": null,
   "id": "functional-skirt",
   "metadata": {},
   "outputs": [],
   "source": [
    "a.shape "
   ]
  },
  {
   "cell_type": "code",
   "execution_count": null,
   "id": "isolated-works",
   "metadata": {},
   "outputs": [],
   "source": [
    "# Resmi görüntüleme\n",
    "# Sadece imshow komutu ile okursanız görüntüyü göremezsiniz\n",
    "# waitKey ile pencerenin kalmasını\n",
    "# destroyAllWindow ile de tüm pencerelerin kapanmasını sağlıyorsunuz\n",
    "# Ayrıca fonksiyonun yanına gelip shift+tab yaparsanız documentation'a da bakabilirsiniz \n",
    "cv2.imshow(\"pencere\",a)\n",
    "cv2.waitKey(0)\n",
    "cv2.destroyAllWindow(\"pencere\")"
   ]
  },
  {
   "cell_type": "code",
   "execution_count": null,
   "id": "quarterly-delay",
   "metadata": {},
   "outputs": [],
   "source": [
    "# Resmi gri renge çevirme \n",
    "a = cv2.imread(\"kanarya.jpg\",0)"
   ]
  },
  {
   "cell_type": "code",
   "execution_count": null,
   "id": "quantitative-clinic",
   "metadata": {},
   "outputs": [],
   "source": [
    "# Resmi kaydetme\n",
    "cv2.imwrite(\"grikanarya.jpg\",a)"
   ]
  },
  {
   "cell_type": "code",
   "execution_count": null,
   "id": "blocked-midnight",
   "metadata": {},
   "outputs": [],
   "source": [
    "# Video Okuma;\n",
    "# Videolar aslında her biri resimden oluşan ama yüksek hızda okunduğu için video diyorsunuz. \n",
    "# Aslında bir döngü içerisinde resim alacaksınız\n",
    "# eğer VideoCapture içine 0 yazarsanız default kameranızı kullanmış olacaksınız\n",
    "# ret True ya da False döndürüyor, kameradan görüntünün okunup okunmadığı ile ilgili oluyor\n",
    "# frame ise size resim çerçevenizi veriyor \n",
    "# if döngüsünü eğer kameradan görüntü alamazsanız çıksın diye koyabilirsiniz\n",
    "# cam.realease ise koddan çıksanız bile kamera açık kalacaktır onun kapanmasını sağlayacaktır.\n",
    "# waitKey(1) ise açık kalmasını sağlayacak\n",
    "# cvtColor ile gri tona çevirebilirsiniz\n",
    "kamera = cv2.VideoCapture(0)\n",
    "\n",
    "while True: \n",
    "    ret, frame =  kamera.read()\n",
    "    \n",
    "    frame = cv2.cvtColor(frame, cv2.COLOR_BGR2GRAY)\n",
    "    \n",
    "    if not ret: \n",
    "        print(\"kamera calismiyor\")\n",
    "        break\n",
    "    cv2.imshow(\"kamera\",frame)    \n",
    "    \n",
    "    cv2.waitKey(1)\n",
    "    \n",
    "cam.release()\n",
    "cv2.destroyAllWindows()"
   ]
  },
  {
   "cell_type": "code",
   "execution_count": null,
   "id": "elegant-bidding",
   "metadata": {},
   "outputs": [],
   "source": [
    "# Kamera özelliklerine bakmak;\n",
    "# içerisine 3 ve 4 yazarsanız çözünürlüğü size dönecektir\n",
    "# 5 yazdığınız zaman ise fps'i size gösterir\n",
    "\n",
    "\n",
    "kamera.get(3)\n",
    "\n",
    "kamera.get(4)\n",
    "\n",
    "kamera.get(5)"
   ]
  },
  {
   "cell_type": "code",
   "execution_count": null,
   "id": "unique-investigator",
   "metadata": {},
   "outputs": [],
   "source": [
    "# Video okumak\n",
    "# kamera için yaptığımız aynı işlemleri yapıyoruz\n",
    "# sadece video tanımladık\n",
    "video = cv2.VideoCapture(\"ferdiozbegen.mp4\")\n",
    "\n",
    "while video.isOpened():\n",
    "    \n",
    "    ret, frame = video.read()\n",
    "    \n",
    "    cv2.imshow(\"video\",frame)\n",
    "    \n",
    "    cv2.waitKey(1)\n",
    "    \n",
    "cam.release()\n",
    "cv2.destroyAllWindows()"
   ]
  },
  {
   "cell_type": "code",
   "execution_count": null,
   "id": "martial-think",
   "metadata": {},
   "outputs": [],
   "source": [
    "# Kamera görüntüsünü kaydetme; \n",
    "# VideoWriter normal de içine 4 tane parametre alır, M, J, P, G yazabilirsiniz\n",
    "# avi dosyası oluşturmak için 'XVID' yazabilirsiniz\n",
    "# out ile de boş bir şablon oluşturabilirsiniz, görüntü ismini verebilirsiniz\n",
    "# fps ve görüntü boyutlandırmalarını yazmalısınız\n",
    "# out.write ile de boş bir şablonun içine görüntüyü yazdırabilirsiniz\n",
    "# imshow ile de kayıt alırken kendi görüntünüzü görebilirsiniz\n",
    "kamera = cv2.VideoCapture(0)\n",
    "\n",
    "kamera2 = cv2.VideoWriter_fourcc(*'XVID')\n",
    "\n",
    "out = cv2.VideoWriter(\"ferdiozbegen.avi\", kamera2, 30.0, (640,480))\n",
    "\n",
    "\n",
    "while kamera.isOpened():\n",
    "    \n",
    "    ret, frame = kamera.read()\n",
    "    \n",
    "    out.write(frame)\n",
    "    \n",
    "    cv2.imshow(\"kamera\",frame)\n",
    "    \n",
    "    cv2.waitKey(1)\n",
    "    \n",
    "cam.release()\n",
    "out.release()\n",
    "cv2.destroyAllWindows()"
   ]
  }
 ],
 "metadata": {
  "kernelspec": {
   "display_name": "Python 3",
   "language": "python",
   "name": "python3"
  },
  "language_info": {
   "codemirror_mode": {
    "name": "ipython",
    "version": 3
   },
   "file_extension": ".py",
   "mimetype": "text/x-python",
   "name": "python",
   "nbconvert_exporter": "python",
   "pygments_lexer": "ipython3",
   "version": "3.7.9"
  }
 },
 "nbformat": 4,
 "nbformat_minor": 5
}
