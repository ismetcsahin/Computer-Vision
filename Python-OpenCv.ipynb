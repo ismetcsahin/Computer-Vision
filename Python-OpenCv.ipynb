{
 "cells": [
  {
   "cell_type": "markdown",
   "id": "featured-appendix",
   "metadata": {},
   "source": [
    "### Resim okuduğumuz da 0 ile 255 arasında yer alıyor. 0 - siyah, 255 - beyaz olarak görüyoruz  \n",
    "\n",
    "### Resim Okuma"
   ]
  },
  {
   "cell_type": "code",
   "execution_count": 1,
   "id": "later-packet",
   "metadata": {},
   "outputs": [],
   "source": [
    "import cv2\n",
    "import numpy as np\n",
    "\n",
    "image = cv2.imread(\"indir.jpg\",0) \n",
    "# imread komutu ile resim okuyoruz, bir değişkenin içine attık \n",
    "# resimi alıp bir numpy array'ine çeviriyor aslında\n",
    "# parametre olarak 0 verirsek resmi gray'e çevirip image içine atıyor \n",
    "\n",
    "cv2.imshow(\"fb\",image) \n",
    "# bir yazı yazdırdık ve hangi resmi çekeceksek onu aldık\n",
    "\n",
    "cv2.imwrite(\"newimage.jpg\",image) # dosyaya gri şekilde yazdırdık \n",
    "\n",
    "\n",
    "# temel iskelet olarak bu kodları yazmak lazım \n",
    "cv2.waitKey(0)\n",
    "cv2.destroyAllWindows()\n",
    "# çarpı işaretine basıp kapatmak için aslında cv2 pencerelerini\n",
    "\n"
   ]
  },
  {
   "cell_type": "markdown",
   "id": "studied-belfast",
   "metadata": {},
   "source": [
    "### Video Okuma, görüntüleme, kaydetme\n",
    "### Kameradan görüntü alma"
   ]
  },
  {
   "cell_type": "code",
   "execution_count": null,
   "id": "satisfactory-easter",
   "metadata": {},
   "outputs": [],
   "source": [
    "cam = cv2.VideoCapture(0) # kamera görüntüsünü almak için \n",
    "\n",
    "while True:\n",
    "    ret, frame =cam.read() # burada da döngü içinde okuyoruz \n",
    "    \n",
    "    frame = cv2.cvtColor(frame,cv2.COLOR_BGR2GRAY) # görüntüyü siyah beyaz okumak için\n",
    "    \n",
    "    if not ret : \n",
    "        print(\"goruntu yok\")\n",
    "        break \n",
    "        \n",
    "    cv2.imshow(\"kamera\",frame) \n",
    "    cv2.waitKey(1) # burada 1 yaptık ki sürekli devam etsin\n",
    "    \n",
    "cam.realese() # burada ise kamerayı kapatması için\n",
    "cv2.destroyAllWindows()"
   ]
  },
  {
   "cell_type": "markdown",
   "id": "catholic-spencer",
   "metadata": {},
   "source": [
    "### ayrıca cam.get() yazarak kameramızın proporties'larını görebiliriz, opencv tutorial'dan bakabiliriz\n",
    "### cam.get(5) mesela fps değerini gösteriyor, cam.set(3,320) cam.set(4,240) yaparak görüntünün boyutunu değiştirebiliriz "
   ]
  },
  {
   "cell_type": "markdown",
   "id": "religious-hamburg",
   "metadata": {},
   "source": [
    "### Video Okuma"
   ]
  },
  {
   "cell_type": "code",
   "execution_count": null,
   "id": "legislative-kelly",
   "metadata": {},
   "outputs": [],
   "source": [
    "cam = cv2.VideoCapture(\"Savunma Sanayisinde Yapay Zeka - YouTube.mp4\") # buraya şimdi açacağımız videonun ismini koyuyoruz \n",
    "\n",
    "while cam.isOpened(): \n",
    "    \n",
    "    ret, frame =cam.read() # burada da döngü içinde okuyoruz \n",
    "    \n",
    "    frame = cv2.cvtColor(frame,cv2.COLOR_BGR2GRAY) # videoyu siyah beyaz okumak için\n",
    "    \n",
    "    if not ret : \n",
    "        print(\"goruntu yok\")\n",
    "        break \n",
    "        \n",
    "    cv2.imshow(\"video\",frame) \n",
    "    \n",
    "    cv2.waitKey(1)  # burada 1 yaptık ki sürekli devam etsin\n",
    "\n",
    "\n",
    "cam.realese() # burada ise kamerayı kapatması için\n",
    "cv2.destroyAllWindows()"
   ]
  },
  {
   "cell_type": "markdown",
   "id": "greatest-google",
   "metadata": {},
   "source": [
    "### Video Kaydetme"
   ]
  },
  {
   "cell_type": "code",
   "execution_count": 2,
   "id": "traditional-spelling",
   "metadata": {},
   "outputs": [
    {
     "ename": "AttributeError",
     "evalue": "module 'cv2.cv2' has no attribute 'VideoWriter_kayit'",
     "output_type": "error",
     "traceback": [
      "\u001b[1;31m---------------------------------------------------------------------------\u001b[0m",
      "\u001b[1;31mAttributeError\u001b[0m                            Traceback (most recent call last)",
      "\u001b[1;32m<ipython-input-2-08d25748d785>\u001b[0m in \u001b[0;36m<module>\u001b[1;34m\u001b[0m\n\u001b[0;32m      1\u001b[0m \u001b[0mcam\u001b[0m \u001b[1;33m=\u001b[0m \u001b[0mcv2\u001b[0m\u001b[1;33m.\u001b[0m\u001b[0mVideoCapture\u001b[0m\u001b[1;33m(\u001b[0m\u001b[1;36m0\u001b[0m\u001b[1;33m)\u001b[0m\u001b[1;33m\u001b[0m\u001b[1;33m\u001b[0m\u001b[0m\n\u001b[0;32m      2\u001b[0m \u001b[1;33m\u001b[0m\u001b[0m\n\u001b[1;32m----> 3\u001b[1;33m \u001b[0mkayit\u001b[0m \u001b[1;33m=\u001b[0m \u001b[0mcv2\u001b[0m\u001b[1;33m.\u001b[0m\u001b[0mVideoWriter_kayit\u001b[0m\u001b[1;33m(\u001b[0m\u001b[1;33m*\u001b[0m\u001b[1;34m'XVID'\u001b[0m\u001b[1;33m)\u001b[0m\u001b[1;33m\u001b[0m\u001b[1;33m\u001b[0m\u001b[0m\n\u001b[0m\u001b[0;32m      4\u001b[0m \u001b[1;33m\u001b[0m\u001b[0m\n\u001b[0;32m      5\u001b[0m \u001b[0mout\u001b[0m \u001b[1;33m=\u001b[0m \u001b[0mcv2\u001b[0m\u001b[1;33m.\u001b[0m\u001b[0mVideoWriter\u001b[0m\u001b[1;33m(\u001b[0m\u001b[1;34m\"kayit1.avi\"\u001b[0m\u001b[1;33m,\u001b[0m \u001b[0mkayit\u001b[0m\u001b[1;33m,\u001b[0m \u001b[1;36m30.0\u001b[0m\u001b[1;33m,\u001b[0m \u001b[1;33m(\u001b[0m\u001b[1;36m640\u001b[0m\u001b[1;33m,\u001b[0m\u001b[1;36m480\u001b[0m\u001b[1;33m)\u001b[0m\u001b[1;33m)\u001b[0m\u001b[1;33m\u001b[0m\u001b[1;33m\u001b[0m\u001b[0m\n",
      "\u001b[1;31mAttributeError\u001b[0m: module 'cv2.cv2' has no attribute 'VideoWriter_kayit'"
     ]
    }
   ],
   "source": [
    "cam = cv2.VideoCapture(0)\n",
    "\n",
    "kayit = cv2.VideoWriter_kayit(*'XVID')\n",
    "\n",
    "out = cv2.VideoWriter(\"kayit1.avi\", kayit, 30.0, (640,480))\n",
    "\n",
    "while cam.isOpened():\n",
    "    \n",
    "    ret, frame = cam.read()\n",
    "    \n",
    "    out.write(frame)\n",
    "    \n",
    "    cv2.imshow(\"kayit2\",frame)\n",
    "    \n",
    "    cv2.waitKey(1)\n",
    "    \n",
    "cam.release()\n",
    "out.release()\n",
    "cv2.destroyAllWindows()"
   ]
  },
  {
   "cell_type": "markdown",
   "id": "harmful-drain",
   "metadata": {},
   "source": [
    "### Geometrik şekilleri çizdirmek"
   ]
  },
  {
   "cell_type": "code",
   "execution_count": null,
   "id": "australian-floor",
   "metadata": {},
   "outputs": [],
   "source": [
    "import numpy as np"
   ]
  },
  {
   "cell_type": "code",
   "execution_count": null,
   "id": "amazing-tomato",
   "metadata": {},
   "outputs": [],
   "source": []
  },
  {
   "cell_type": "markdown",
   "id": "legislative-being",
   "metadata": {},
   "source": [
    "### Matrisel Okuma"
   ]
  },
  {
   "cell_type": "code",
   "execution_count": null,
   "id": "adaptive-venture",
   "metadata": {},
   "outputs": [],
   "source": [
    "# https://www.w3schools.com/colors/colors_rgb.asp rgb renklerine buradan ulaşabilir ve renk kodlarına bakabiliriz \n",
    "# RGB\n",
    "\n",
    "# Bir resimde kaç pixel olduğunu görmek için yani kaç tane array var\n",
    "\n",
    "image = cv2.imread(\"kanarya.jpg\") \n",
    "# imread komutu ile resim okuyoruz, bir değişkenin içine attık \n",
    "# resimi alıp bir numpy array'ine çeviriyor aslında\n",
    "# parametre olarak 0 verirsek resmi gray'e çevirip image içine atıyor \n",
    "\n",
    "cv2.imshow(\"kanarya\",image) \n",
    "# bir yazı yazdırdık ve hangi resmi çekeceksek onu aldık\n",
    "\n",
    "\n",
    "print(image)\n",
    "# print image yaptığımız zaman bize matris olarak her bir pixeli dönüyor\n",
    "\n",
    "# temel iskelet olarak bu kodları yazmak lazım \n",
    "cv2.waitKey(0)\n",
    "cv2.destroyAllWindows()\n",
    "# çarpı işaretine basıp kapatmak için aslında cv2 pencerelerini\n",
    "\n",
    "# cv2.namedWindow(\"kanarya\", cv2.WINDOW_NORMAL) # çerçeve oluşturabiliriz bu şekilde"
   ]
  },
  {
   "cell_type": "markdown",
   "id": "romance-location",
   "metadata": {},
   "source": [
    "### Resim de Boyut(Size), Veri Tipi(dtype), Şekil(Shape) Çıktısı"
   ]
  },
  {
   "cell_type": "code",
   "execution_count": null,
   "id": "opening-ceiling",
   "metadata": {},
   "outputs": [],
   "source": [
    "image = cv2.imread(\"kanarya.jpg\") \n",
    "# imread komutu ile resim okuyoruz, bir değişkenin içine attık \n",
    "# resimi alıp bir numpy array'ine çeviriyor aslında\n",
    "# parametre olarak 0 verirsek resmi gray'e çevirip image içine atıyor \n",
    "\n",
    "cv2.imshow(\"kanarya\",image) \n",
    "# bir yazı yazdırdık ve hangi resmi çekeceksek onu aldık\n",
    "\n",
    "print(image.size)\n",
    "# size'ını veriyor bize\n",
    "print(image.dtype)\n",
    "# type'ını veriyor bize unit8 ise 8 bitlik bir veri tutuyor çünkü 255 ile 0 aralığında \n",
    "print(image.shape)\n",
    "# bize shape'ini döndürüyor aslında 3 ise rgb olduğu için, genişliğini ve yükseliğini döndürüyor\n",
    "\n",
    "# temel iskelet olarak bu kodları yazmak lazım \n",
    "cv2.waitKey(0)\n",
    "cv2.destroyAllWindows()\n",
    "# çarpı işaretine basıp kapatmak için aslında cv2 pencerelerini"
   ]
  },
  {
   "cell_type": "markdown",
   "id": "clean-engineer",
   "metadata": {},
   "source": [
    "## Resimden Kesit Alma ve Efekt Uygulama"
   ]
  },
  {
   "cell_type": "code",
   "execution_count": null,
   "id": "equivalent-islam",
   "metadata": {},
   "outputs": [],
   "source": [
    "image = cv2.imread(\"kanarya.jpg\")\n",
    "\n",
    "\n",
    "kesit = image[50:150,300:400] # bir alan verdik aslında\n",
    "# ilk parametre y parametresi aslında sol köşeyi alırsak 50 ile 150 arasını almış olacağız\n",
    "# ikinci parametre ise x değişkeni oluyor aslında \n",
    "\n",
    "cv2.imshow(\"kesit alanı\",kesit) \n",
    "cv2.imshow(\"kanarya\",image) \n",
    "\n",
    "cv2.waitKey(0)\n",
    "cv2.destroyAllWindows()\n"
   ]
  },
  {
   "cell_type": "code",
   "execution_count": null,
   "id": "standard-project",
   "metadata": {},
   "outputs": [],
   "source": [
    "image = cv2.imread(\"kanarya.jpg\")\n",
    "\n",
    "\n",
    "kesit = image[50:150,300:400] # bir alan verdik aslında\n",
    "# ilk parametre y parametresi aslında sol köşeyi alırsak 50 ile 150 arasını almış olacağız\n",
    "# ikinci parametre ise x değişkeni oluyor aslında \n",
    "\n",
    "\n",
    "image[0:100,0:100]=kesit # resim üzerinde bir yere yapıştırdık o kesiti \n",
    "# burada önemli olan aldığınız kesit kadar bir yere yapıştırmak \n",
    "\n",
    "#cv2.imshow(\"kesit alanı\",kesit) \n",
    "cv2.imshow(\"kanarya\",image) \n",
    "\n",
    "cv2.waitKey(0)\n",
    "cv2.destroyAllWindows()"
   ]
  },
  {
   "cell_type": "code",
   "execution_count": null,
   "id": "important-correspondence",
   "metadata": {},
   "outputs": [],
   "source": []
  }
 ],
 "metadata": {
  "kernelspec": {
   "display_name": "Python 3",
   "language": "python",
   "name": "python3"
  },
  "language_info": {
   "codemirror_mode": {
    "name": "ipython",
    "version": 3
   },
   "file_extension": ".py",
   "mimetype": "text/x-python",
   "name": "python",
   "nbconvert_exporter": "python",
   "pygments_lexer": "ipython3",
   "version": "3.7.9"
  }
 },
 "nbformat": 4,
 "nbformat_minor": 5
}
