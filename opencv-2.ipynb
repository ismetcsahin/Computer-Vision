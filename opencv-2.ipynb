{
 "cells": [
  {
   "cell_type": "markdown",
   "id": "independent-princeton",
   "metadata": {},
   "source": [
    "### Geometrik Şekiller Çizmek"
   ]
  },
  {
   "cell_type": "code",
   "execution_count": 1,
   "id": "controlled-testament",
   "metadata": {},
   "outputs": [],
   "source": [
    "import cv2\n",
    "import numpy as np"
   ]
  },
  {
   "cell_type": "code",
   "execution_count": 2,
   "id": "mysterious-portal",
   "metadata": {},
   "outputs": [],
   "source": [
    "# 0'lardan oluşan bir matris oluşturursak içerisi 0 olacaktır\n",
    "# Boyutlarını 512,512 olarak belirleyebilirsiniz\n",
    "# Eğer 512,512,3 yaparsanız 3 renk uzayına sahip olacaksınız, RGB \n",
    "# default olarak içinde float değerler döner size\n",
    "img = np.zeros((512,512,3))\n",
    "\n",
    "cv2.imshow(\"image\",img)\n",
    "\n",
    "cv2.waitKey(0)\n",
    "cv2.destroyAllWindows()"
   ]
  },
  {
   "cell_type": "markdown",
   "id": "russian-receipt",
   "metadata": {},
   "source": [
    "### Çizgi Çizmek"
   ]
  },
  {
   "cell_type": "code",
   "execution_count": 20,
   "id": "smooth-evolution",
   "metadata": {},
   "outputs": [],
   "source": [
    "# line fonksiyonu içerisine 5 tane parametre alır\n",
    "# 1.si hangi resmin üzerine çizgi çizmek istediğiniz\n",
    "# 2 ve 3.sü ise  ise hangi noktadan başlayıp hangi noktada biteceği, x ve y koordinatları üzerinde \n",
    "# en sol köşeden en sağ köşeye kadar gidecektir\n",
    "# 4.sü i se renk BGR olarak okuduğu için 3 sayı vermelisiniz\n",
    "# Önceki yazımda 0 ile 255 arasında olduğunu söylemiştim \n",
    "# 5.si ise kalınlığını ayarlamak olacak\n",
    "\n",
    "img = np.zeros((512,512,3))\n",
    "\n",
    "\n",
    "cv2.line(img,(0,0),(511,511),(255,0,0),5) # koyu bir mavi verecek size, 5 pixellik bir kalınlığı olacak \n",
    "cv2.line(img,(50,400),(400,50),(0,255,0),5) \n",
    "\n",
    "\n",
    "cv2.imshow(\"image\",img)\n",
    "\n",
    "cv2.waitKey(0)\n",
    "cv2.destroyAllWindows()"
   ]
  },
  {
   "cell_type": "markdown",
   "id": "accompanied-height",
   "metadata": {},
   "source": [
    "### Dikdörtgen Çizmek "
   ]
  },
  {
   "cell_type": "code",
   "execution_count": 23,
   "id": "liquid-trance",
   "metadata": {},
   "outputs": [],
   "source": [
    "# Dikdörtgen çizmenin de benzer bir mantığı var\n",
    "# ilk olarak resmi alacaksınız, nerede başlayıp nerede biteceğini belirlemelisiniz\n",
    "# Ayrıca dikdörgen kapalı bir cisim olduğu için içinin de rengini belirleyebilirsiniz\n",
    "# İçini doldurmak için -1 yazmalısınız\n",
    "\n",
    "img = np.zeros((512,512,3))\n",
    "\n",
    "\n",
    "cv2.rectangle(img,(50,50),(400,400),(0,0,255),-1)\n",
    "\n",
    "\n",
    "cv2.imshow(\"image\",img)\n",
    "\n",
    "cv2.waitKey(0)\n",
    "cv2.destroyAllWindows()"
   ]
  },
  {
   "cell_type": "markdown",
   "id": "cloudy-bride",
   "metadata": {},
   "source": [
    "### Çember veya Daire Çizmek"
   ]
  },
  {
   "cell_type": "code",
   "execution_count": 25,
   "id": "mobile-deviation",
   "metadata": {},
   "outputs": [],
   "source": [
    "# İlk olarak resmi alacaksınız, sonra merkezini belirleyeceksiniz\n",
    "# 3. olarak yarıçapını belirlemelisiniz \n",
    "# 4. olarak rengi belirlemelisiniz\n",
    "# Son olarak da kalınlığı belirlemelisiniz\n",
    "# Aynı şekilde -1 eklerseniz içini de doldurabilirsiniz\n",
    "\n",
    "img = np.zeros((512,512,3))\n",
    "\n",
    "\n",
    "cv2.circle(img,(200,200),50,(100,100,100),4)\n",
    "\n",
    "\n",
    "cv2.imshow(\"image\",img)\n",
    "\n",
    "cv2.waitKey(0)\n",
    "cv2.destroyAllWindows()"
   ]
  },
  {
   "cell_type": "markdown",
   "id": "painful-graham",
   "metadata": {},
   "source": [
    "### Elips çizmek"
   ]
  },
  {
   "cell_type": "code",
   "execution_count": 27,
   "id": "academic-russell",
   "metadata": {},
   "outputs": [],
   "source": [
    "# Resmi alacaksınız, merkezi belirlemelisiniz\n",
    "# Uzunluğu belirlemelisiniz, yayın açısını belirlemelisiniz\n",
    "# başlangıç ve bitiş açılarını belirlemelisiniz\n",
    "# rengini de belirlemelisiniz\n",
    "# kalınlığını da belirleyebilirsiniz\n",
    "img = np.zeros((512,512,3))\n",
    "\n",
    "\n",
    "cv2.ellipse(img,(240,240),(100,50),0,0,180,(240,100,0),4)\n",
    "\n",
    "\n",
    "cv2.imshow(\"image\",img)\n",
    "\n",
    "cv2.waitKey(0)\n",
    "cv2.destroyAllWindows()"
   ]
  },
  {
   "cell_type": "markdown",
   "id": "adjacent-temple",
   "metadata": {},
   "source": [
    "### Çokgen Çizmek"
   ]
  },
  {
   "cell_type": "code",
   "execution_count": 28,
   "id": "further-spring",
   "metadata": {},
   "outputs": [],
   "source": [
    "# Çokgen noktalardan oluşur, o yüzden numpy'ı kullanacaksınız\n",
    "# Bir matris oluşturabilirsiniz\n",
    "\n",
    "pol = np.array([[20,40],[100,50],[200,200],[10,20]],np.int32)"
   ]
  },
  {
   "cell_type": "code",
   "execution_count": 31,
   "id": "framed-crawford",
   "metadata": {},
   "outputs": [],
   "source": [
    "# shape'i 4,2'i olduğu için bu şekilde veremezsiniz\n",
    "# reshape yapmalısınız, boyutunu değiştirmelisiniz\n",
    "# 2'li 2'li almalısınız o yüzden -1 yaptık\n",
    "\n",
    "pol.shape\n",
    "\n",
    "pol = pol.reshape(-1,1,2)\n",
    "pol"
   ]
  },
  {
   "cell_type": "code",
   "execution_count": 37,
   "id": "extraordinary-depression",
   "metadata": {},
   "outputs": [],
   "source": [
    "# 1.si resmi almak, 2.si sizin seçtiğiniz noktalar\n",
    "# 3.sü ise True ya da False yaparsanız kapalı veya açık olacağını göreceksiniz\n",
    "# Yani bir çokgen veya noktalar olacağını\n",
    "\n",
    "cv2.polylines(img,[pol],True,(200,200,200),5)\n",
    "\n",
    "cv2.imshow(\"image\",img)\n",
    "\n",
    "cv2.waitKey(0)\n",
    "cv2.destroyAllWindows()"
   ]
  },
  {
   "cell_type": "markdown",
   "id": "persistent-tonight",
   "metadata": {},
   "source": [
    "### Yazı Yazmak"
   ]
  },
  {
   "cell_type": "code",
   "execution_count": 41,
   "id": "permanent-nepal",
   "metadata": {},
   "outputs": [],
   "source": [
    "# Benzer işlemler ikinci olarak yazıyı vermelisiniz\n",
    "# Yazının sol alt köşesinin nerede yer alacağı \n",
    "# Bir sonraki ifade ise font'u\n",
    "# Boyutu ve rengini belirtmelisiniz\n",
    "# Sonra kalınlığını vermelisiniz\n",
    "# Son olarakta tipini belirtmelisiniz, size daha iyi bir görüntü verecektir\n",
    "# \n",
    "\n",
    "fnt = cv2.FONT_HERSHEY_COMPLEX\n",
    "\n",
    "cv2.putText(img,'DataScience',(20,200),fnt,5,(0,200,100),3,cv2.LINE_AA)\n",
    "\n",
    "cv2.imshow(\"image\",img)\n",
    "\n",
    "cv2.waitKey(0)\n",
    "cv2.destroyAllWindows()"
   ]
  },
  {
   "cell_type": "markdown",
   "id": "expanded-engineering",
   "metadata": {},
   "source": [
    "### Trackbar Kullanımı\n",
    "\n",
    "### Telefonlarınız da trackbar kullanıyorsunuz aslında, şöyle ki ses açma ve kapama tuşuna bastığınız da ekran da ses yükseltme ve alçaltma yaptığınız kısım diyebilirsiniz. Ses seviyesini ayarlama kısmı diyebiliriz."
   ]
  },
  {
   "cell_type": "code",
   "execution_count": 2,
   "id": "raised-story",
   "metadata": {},
   "outputs": [],
   "source": [
    "# Boş bir çerçeve oluşturmalısınız\n",
    "# Boş bir çerçevenin içine Trackbar'ı dahil etmelisiniz\n",
    "# İlk olarak TrackBar ismini vermelisiniz\n",
    "# 2'si hangi çerçevede yer alacak\n",
    "# 3.sü ise değerinin başlangıcı 0 ile başlayıp 255 arasında olacak\n",
    "# 4.sü ise function girmelsiiniz, bir işlem yapmıyor aslında ama size işlem yaptığınız da size değeri döndürecektir\n",
    "# Yazmanız gerekli yoksa çalışmayacaktır\n",
    "# R,G,B için tekrarlamalısınız\n",
    "# Şimdi ise döngüye koyup, sürekli ekran kalması için\n",
    "# Yaptığımız değişikleri ise görmek istiyoruz o yüzden TrackbarPos function'ı kullanacağız\n",
    "# Bir renk bilgisi alacaksınız, onun için de hangi parametre ve hangi pencere olduğunu söylemelisiniz\n",
    "# img'e eklemeniz gerekli bunun için de tüm pikselleri kullanmalısınız\n",
    "# Ayrıca b,g,r şeklinde vermelisiniz çünkü bgr okuyor\n",
    "\n",
    "def nothing(x):\n",
    "    pass\n",
    "\n",
    "img = np.zeros((512,512,3))\n",
    "\n",
    "cv2.namedWindow(\"image\")\n",
    "\n",
    "cv2.createTrackbar(\"R\",\"image\",0,255,nothing)\n",
    "cv2.createTrackbar(\"G\",\"image\",0,255,nothing)\n",
    "cv2.createTrackbar(\"B\",\"image\",0,255,nothing)\n",
    "\n",
    "while(1):\n",
    "    cv2.imshow(\"image\",img)\n",
    "\n",
    "    if cv2.waitKey(1) & 0xFF == 27: # bir tuşa bastığınızda kapanması için\n",
    "        break\n",
    "        \n",
    "    r  = cv2.getTrackbarPos(\"R\",\"image\")\n",
    "    g  = cv2.getTrackbarPos(\"G\",\"image\")\n",
    "    b  = cv2.getTrackbarPos(\"B\",\"image\")\n",
    "    \n",
    "    img[:] = [b,g,r]\n",
    "    \n",
    "\n",
    "cv2.destroyAllWindows()"
   ]
  },
  {
   "cell_type": "code",
   "execution_count": null,
   "id": "instructional-carroll",
   "metadata": {},
   "outputs": [],
   "source": []
  }
 ],
 "metadata": {
  "kernelspec": {
   "display_name": "Python 3",
   "language": "python",
   "name": "python3"
  },
  "language_info": {
   "codemirror_mode": {
    "name": "ipython",
    "version": 3
   },
   "file_extension": ".py",
   "mimetype": "text/x-python",
   "name": "python",
   "nbconvert_exporter": "python",
   "pygments_lexer": "ipython3",
   "version": "3.7.9"
  }
 },
 "nbformat": 4,
 "nbformat_minor": 5
}
